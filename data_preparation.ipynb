{
 "cells": [
  {
   "cell_type": "markdown",
   "id": "f6c587b7-627b-43fe-9620-51ecaaeecffd",
   "metadata": {},
   "source": [
    "# Data Preparation\n",
    "***\n",
    "**Author:** [Andrés Piñango](https://github.com/andresawa/)  \n",
    "Laboratório de Estudos dos Oceanos e Clima – LEOC, Instituto de Oceanografia, Universidade Federal do Rio Grande.  \n",
    "email: andreseloy@furg.br  \n",
    "**Last change:** 28/08/2021\n",
    "***\n",
    "\n",
    "This notebook contains the code applied for the generation of the datafiles `north_data.nc` and `equator_data.nc`, used in the practical exercise `atividade_pratica.ipynb`. The data variables in those files are:\n",
    "* `fco2`: CO₂ fugacity in seawater, taken from the SOCAT version 2021 gridded product.\n",
    "* `temperature`: Sea surface temperature (SST), taken from the SOCAT version 2021 gridded product.\n",
    "* `salinity`: Salinity, taken from the SOCAT version 2021 gridded product.\n",
    "* `wind_speed`: 10 meter wind speed, taken from the ERA5 dataset.\n",
    "* `pco2_atm`: Global monthly mean partial pressure of CO₂ (pCO₂), taken from the Global Monitoring Laboratory - NOAA\n",
    "\n",
    "More information can be found on the site of each product:\n",
    "* [SOCAT 2021](http://socat.info)\n",
    "* [ERA5](https://cds.climate.copernicus.eu/cdsapp#!/dataset/reanalysis-era5-single-levels-monthly-means)\n",
    "* [GML NOAA](https://gml.noaa.gov/ccgg/trends/global.html)"
   ]
  },
  {
   "cell_type": "markdown",
   "id": "a11f9ee0-b8fa-4f79-b1ba-4236daf77037",
   "metadata": {},
   "source": [
    "***\n",
    "## Import the libraries"
   ]
  },
  {
   "cell_type": "code",
   "execution_count": null,
   "id": "3ebf3a2f-ce78-4c1d-8832-439afc9a15e3",
   "metadata": {},
   "outputs": [],
   "source": [
    "import numpy as np\n",
    "import pandas as pd\n",
    "import xarray as xr\n",
    "import wget\n",
    "import tempfile\n",
    "import cdsapi\n",
    "from zipfile import ZipFile"
   ]
  },
  {
   "cell_type": "markdown",
   "id": "7b586238-2a3b-49d4-8754-5c646e3d5648",
   "metadata": {},
   "source": [
    "## Download the compressed SOCAT data and extract it to a temporary directory\n",
    "SOCAT gridded data is available as compressed (35 MB) and uncompressed (3.5 GB) files. Extract the compressed data is faster than download the uncompressed data."
   ]
  },
  {
   "cell_type": "code",
   "execution_count": null,
   "id": "3d8def26-956c-4146-822c-ce52ad020534",
   "metadata": {},
   "outputs": [],
   "source": [
    "temp_dir = tempfile.TemporaryDirectory()\n",
    "temp_file = \"/\".join([temp_dir.name, \"socat_compressed.zip\"])\n",
    "wget.download(\"https://www.socat.info/socat_files/v2021/SOCATv2021_tracks_gridded_monthly.nc.zip\", temp_file)\n",
    "\n",
    "zf = ZipFile(temp_file, 'r')\n",
    "zf.extractall(temp_dir.name)\n",
    "zf.close()\n",
    "\n",
    "socat_file = \"/\".join([temp_dir.name, \"SOCATv2021_tracks_gridded_monthly.nc\"])"
   ]
  },
  {
   "cell_type": "markdown",
   "id": "5b554c77-2b77-41cc-a639-f1aeb145a999",
   "metadata": {},
   "source": [
    "## Download the ERA5 wind speed data to the temporal directory"
   ]
  },
  {
   "cell_type": "code",
   "execution_count": null,
   "id": "16b010c8-a453-4cb5-8289-27a94d7234fa",
   "metadata": {},
   "outputs": [],
   "source": [
    "# Download the data for the north atlantic (40°N - 60°N)\n",
    "c = cdsapi.Client()\n",
    "north_file = \"/\".join([temp_dir.name, \"wind_north.nc\"])\n",
    "c.retrieve(\n",
    "    'reanalysis-era5-single-levels-monthly-means',\n",
    "    {\n",
    "        'product_type': 'monthly_averaged_reanalysis',\n",
    "        'variable': '10m_wind_speed',\n",
    "        'year': [\n",
    "            '2000', '2001', '2002',\n",
    "            '2003', '2004', '2005',\n",
    "            '2006', '2007', '2008',\n",
    "            '2009', '2010', '2011',\n",
    "            '2012', '2013', '2014',\n",
    "            '2015', '2016', '2017',\n",
    "            '2018', '2019', '2020',\n",
    "        ],\n",
    "        'month': [\n",
    "            '01', '02', '03',\n",
    "            '04', '05', '06',\n",
    "            '07', '08', '09',\n",
    "            '10', '11', '12',\n",
    "        ],\n",
    "        'time': '00:00',\n",
    "        'area': [\n",
    "            60, -60, 40,\n",
    "            0,\n",
    "        ],\n",
    "        'format': 'netcdf',\n",
    "    },\n",
    "    north_file)\n",
    "# Download the data for the tropical atlantic (10°S - 10°N)\n",
    "d = cdsapi.Client()\n",
    "equator_file = \"/\".join([temp_dir.name, \"wind_equator.nc\"])\n",
    "d.retrieve(\n",
    "    'reanalysis-era5-single-levels-monthly-means',\n",
    "    {\n",
    "        'product_type': 'monthly_averaged_reanalysis',\n",
    "        'variable': '10m_wind_speed',\n",
    "        'year': [\n",
    "            '2000', '2001', '2002',\n",
    "            '2003', '2004', '2005',\n",
    "            '2006', '2007', '2008',\n",
    "            '2009', '2010', '2011',\n",
    "            '2012', '2013', '2014',\n",
    "            '2015', '2016', '2017',\n",
    "            '2018', '2019', '2020',\n",
    "        ],\n",
    "        'month': [\n",
    "            '01', '02', '03',\n",
    "            '04', '05', '06',\n",
    "            '07', '08', '09',\n",
    "            '10', '11', '12',\n",
    "        ],\n",
    "        'time': '00:00',\n",
    "        'area': [\n",
    "            10, -60, -10,\n",
    "            0,\n",
    "        ],\n",
    "        'format': 'netcdf',\n",
    "    },\n",
    "    equator_file)"
   ]
  },
  {
   "cell_type": "markdown",
   "id": "6c724ae1-2c5c-4019-94a1-dafc1f23cbab",
   "metadata": {},
   "source": [
    "## Import the data"
   ]
  },
  {
   "cell_type": "code",
   "execution_count": null,
   "id": "29ee1881-cc85-4ec2-a333-3b45fd967339",
   "metadata": {},
   "outputs": [],
   "source": [
    "socat = xr.open_dataset(socat_file)\n",
    "wind_north = xr.open_dataset(north_file)\n",
    "wind_equator = xr.open_dataset(equator_file)\n",
    "atmospheric_pco2 = pd.read_csv(\"https://gml.noaa.gov/webdata/ccgg/trends/co2/co2_mm_gl.txt\", sep = \"\\s+\", names = [\"year\", \"month\", \"decimal\", \"average\", \"trend\"], skiprows = 58)\n",
    "\n",
    "temp_dir.cleanup() # Close and erase the temporary directory"
   ]
  },
  {
   "cell_type": "markdown",
   "id": "cf4f3880-14bf-4c61-81f6-c771386f53b4",
   "metadata": {},
   "source": [
    "## Drop unwanted variables in the SOCAT data and select the studied regions"
   ]
  },
  {
   "cell_type": "code",
   "execution_count": null,
   "id": "33e26800-9be9-4167-bd7b-81e18b1481cf",
   "metadata": {},
   "outputs": [],
   "source": [
    "unwanted_vars = [\"tmnth_bnds\", \"count_ncruise\", \"fco2_count_nobs\", \"fco2_ave_unwtd\", \"fco2_min_unwtd\", \"fco2_max_unwtd\", \"fco2_std_weighted\", \n",
    "                 \"fco2_std_unwtd\", \"sst_count_nobs\", \"sst_ave_unwtd\", \"sst_min_unwtd\", \"sst_max_unwtd\", \"sst_std_weighted\", \"sst_std_unwtd\", \n",
    "                 \"salinity_count_nobs\", \"salinity_ave_unwtd\", \"salinity_min_unwtd\", \"salinity_max_unwtd\", \"salinity_std_weighted\", \n",
    "                 \"salinity_std_unwtd\", \"lat_offset_unwtd\", \"lon_offset_unwtd\"]\n",
    "new_names_dims = {\"xlon\" : \"longitude\",\n",
    "                  \"ylat\" : \"latitude\",\n",
    "                  \"tmnth\" : \"time\"}\n",
    "new_names_vars = {\"xlon\" : \"longitude\",\n",
    "                  \"ylat\" : \"latitude\",\n",
    "                  \"tmnth\" : \"time\",\n",
    "                  \"fco2_ave_weighted\" : \"fco2\",\n",
    "                  \"sst_ave_weighted\" : \"temperature\",\n",
    "                  \"salinity_ave_weighted\" : \"salinity\"}\n",
    "\n",
    "socat_north = socat.copy()\n",
    "socat_north = socat_north.sel(xlon = slice(-60, 0), ylat = slice(40, 60), tmnth = slice(\"2000\", \"2020\"))\n",
    "socat_north = socat_north.drop_vars(unwanted_vars).rename_dims(new_names_dims).rename_vars(new_names_vars)\n",
    "socat_north = socat_north.assign_coords(time = wind_equator.time.values)\n",
    "socat_north = socat_north.sortby(\"latitude\", ascending=False)\n",
    "\n",
    "socat_equator = socat.copy()\n",
    "socat_equator = socat_equator.sel(xlon = slice(-60, 0), ylat = slice(-10, 10), tmnth = slice(\"2000\", \"2020\"))\n",
    "socat_equator = socat_equator.drop_vars(unwanted_vars).rename_dims(new_names_dims).rename_vars(new_names_vars)\n",
    "socat_equator = socat_equator.assign_coords(time = wind_equator.time.values)\n",
    "socat_equator = socat_equator.sortby(\"latitude\", ascending=False)"
   ]
  },
  {
   "cell_type": "markdown",
   "id": "661ead56-1a05-4a80-9df7-c3cfba7b87b5",
   "metadata": {},
   "source": [
    "## Downsample the ERA5 (wind) data to match the SOCAT resolution\n"
   ]
  },
  {
   "cell_type": "code",
   "execution_count": null,
   "id": "7cdc6770-a679-43a8-8538-2ffd3fbf2833",
   "metadata": {},
   "outputs": [],
   "source": [
    "new_names_vars = {\"si10\" : \"wind_speed\"}\n",
    "\n",
    "wind_north = wind_north.sel(longitude = slice(-59.5, -0.5), latitude = slice(59.5, 40.5))\n",
    "wind_north = wind_north.rename_vars(new_names_vars)\n",
    "wind_north = wind_north.coarsen(longitude = 4, boundary = \"pad\").mean().coarsen(latitude = 4, boundary = \"pad\").mean()\n",
    "wind_north = wind_north.assign_coords(longitude = socat_north.longitude.values).assign_coords(latitude = socat_north.latitude.values)\n",
    "\n",
    "wind_equator = wind_equator.sel(longitude = slice(-59.5, -0.5), latitude = slice(9.5, -9.5))\n",
    "wind_equator = wind_equator.rename_vars(new_names_vars)\n",
    "wind_equator = wind_equator.coarsen(longitude = 4, boundary = \"pad\").mean().coarsen(latitude = 4, boundary = \"pad\").mean()\n",
    "wind_equator = wind_equator.assign_coords(longitude = socat_equator.longitude.values).assign_coords(latitude = socat_equator.latitude.values)"
   ]
  },
  {
   "cell_type": "markdown",
   "id": "d2d90a2f-def8-4055-bb65-ce1669ff5c6a",
   "metadata": {},
   "source": [
    "## Transform the atmospheric CO₂ data in a xarray.DataArray"
   ]
  },
  {
   "cell_type": "code",
   "execution_count": null,
   "id": "38de8e44-7edf-4d4a-a2a5-fc042fc17864",
   "metadata": {},
   "outputs": [],
   "source": [
    "new_name_coor = {\"index\" : \"time\"}\n",
    "\n",
    "pco2_atm = atmospheric_pco2.loc[(atmospheric_pco2[\"year\"] >= 2000) & (atmospheric_pco2[\"year\"] < 2021)]\n",
    "pco2_atm = pd.Series(pco2_atm.average)\n",
    "pco2_atm = xr.DataArray.from_series(pco2_atm, sparse=False)\n",
    "pco2_atm = pco2_atm.rename(new_name_coor).assign_coords(time = wind_equator.time.values)\n",
    "pco2_atm.name = \"pco2_atm\""
   ]
  },
  {
   "cell_type": "markdown",
   "id": "2055cca3-5a8b-4a0c-b9f2-35b7d4ba9ee7",
   "metadata": {},
   "source": [
    "##  Merge all the data in a file for the study section ubicated in the north atlantic (40°N - 60°N)"
   ]
  },
  {
   "cell_type": "code",
   "execution_count": null,
   "id": "91e129b1-4546-459f-9f14-153d0620dc96",
   "metadata": {},
   "outputs": [],
   "source": [
    "north_zone = socat_north.merge(wind_north).merge(pco2_atm)\n",
    "north_zone.to_netcdf(\"~/fluxos-co2/north_data.nc\")"
   ]
  },
  {
   "cell_type": "markdown",
   "id": "657af50e-fe4e-4c88-a8a7-774e9655880c",
   "metadata": {},
   "source": [
    "##  Merge all the data in a file for the study section ubicated in the tropical atlantic (10°S - 10°N)"
   ]
  },
  {
   "cell_type": "code",
   "execution_count": null,
   "id": "b61a4062-2e5b-4ce4-a46b-fa23b9b4468f",
   "metadata": {},
   "outputs": [],
   "source": [
    "equator_zone = socat_equator.merge(wind_equator).merge(pco2_atm)\n",
    "equator_zone.to_netcdf(\"~/fluxos-co2/equator_data.nc\")"
   ]
  }
 ],
 "metadata": {
  "kernelspec": {
   "display_name": "Python 3",
   "language": "python",
   "name": "python3"
  },
  "language_info": {
   "codemirror_mode": {
    "name": "ipython",
    "version": 3
   },
   "file_extension": ".py",
   "mimetype": "text/x-python",
   "name": "python",
   "nbconvert_exporter": "python",
   "pygments_lexer": "ipython3",
   "version": "3.9.5"
  }
 },
 "nbformat": 4,
 "nbformat_minor": 5
}
